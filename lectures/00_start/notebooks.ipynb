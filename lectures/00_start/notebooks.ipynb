{
 "cells": [
  {
   "cell_type": "markdown",
   "metadata": {
    "pycharm": {
     "name": "#%% md\n"
    }
   },
   "source": [
    "# Getting started with Jupyter Notebooks\n",
    "\n",
    "We extensively use [Jupyter Notebook](https://jupyter.org/) during the course, and we expect you to hand over your project as a notebook presentation. It is a powerful tool for **interactively developing and presenting new Machine Learning concepts and doing exercises**. Therefore, it is vital to get comfortable with the Jupyter Notebook. This chapter will walk you through some basics how to use Jupyter Notebooks.\n",
    "\n",
    "> ✏️ For additional detail, you can visit the resources used for this tutorial: {cite}`real_python_2021`, {cite}`pryke_2022` and {cite}`vanderplas_2017`. We recommend reading {cite}`grupman_2021` and {cite}`pryke_2021` for more advanced topics.\n",
    "\n",
    "## Setup\n",
    "\n",
    "Jupyter’s Notebooks is a web app. Jupyter starts up a local Python server to serve the app to your web browser, making it essentially platform-independent and opening the door to easier sharing on the web.\n",
    "\n",
    "### Installation\n",
    "\n",
    "The Jupyter Notebook is not included with Python, so if you want to try it out, you will need to install Jupyter and have a working Python environment. We have already installed one environment that includes Jupyter in [the previous section](environment-setup.md).\n",
    "\n",
    "If your environment does not include Jupyter, you can install it by running the following command in your conda environment:\n",
    "\n",
    "```console\n",
    "conda install notebook\n",
    "```\n",
    "\n",
    "### Starting Server\n",
    "\n",
    "With Jupyter installed, let's start the Notebook server by opening your terminal application in the home folder of the project repository and running the following command:\n",
    "\n",
    "```console\n",
    "jupyter notebook\n",
    "```\n",
    "\n",
    "This will start up Jupyter, and your default browser should start (or open a new tab) to the following URL: [http://localhost:8888/tree](http://localhost:8888/tree). The opened page should look like this:\n",
    "\n",
    "![Jupyter Notebook web app](../../static/images/initial_notebook_screen.png \"Jupyter Notebook web app\")\n",
    "\n",
    "> ✏️ Alternatively, you can use an [IDE](ide-overview.md) to interact with the server\n",
    "\n",
    "## Running your first notebook\n",
    "\n",
    "Let's familiarize ourselves a bit with the Jupyter Notebook web app and its interface.\n",
    "\n",
    "### Creating a Notebook\n",
    "\n",
    "Browse to the folder in which you would like to create your first notebook, click the \"New\" drop-down button in the top-right and select \"Python 3\":\n",
    "\n",
    "![The new Notebook menu](../../static/images/new_notebook_menu.webp \"The new Notebook menu\")\n",
    "\n",
    "This should create a new notebook in the selected folder similar to this:\n",
    "\n",
    "![A new Notebook](../../static/images/new_notebook.png \"A new Notebook\")\n",
    "\n",
    "You might notice the word _Untitled_ at the top of the page. It is the title of the page and the name of your notebook. As a good practice, change the name to something more descriptive. We use [Snake case](https://en.wikipedia.org/wiki/Snake_case) for variable names, function names, method names, and module or package (i.e., file) names. Move your mouse over the word _Untitled_ and click on the text. You should now see an in-browser dialog titled _Rename Notebook_, so do.\n",
    "\n",
    "> ✏️ Each time you create a new notebook, a new _.ipynb_ file will be created. Each _.ipynb_ file is a text file that describes your notebook's contents in a _JSON_ format.\n",
    "\n",
    "### Executing cells\n",
    "\n",
    "A Notebook’s cell defaults to using code whenever you create one, and that cell uses the kernel you chose when you started your Notebook.\n",
    "\n",
    "Thus, to verify that everything is working as it should, you can add some Python code to the cell and try running its contents. For example, try the following code that will **plot some data**:"
   ]
  },
  {
   "cell_type": "code",
   "execution_count": 1,
   "outputs": [
    {
     "ename": "KeyboardInterrupt",
     "evalue": "",
     "output_type": "error",
     "traceback": [
      "\u001B[0;31m---------------------------------------------------------------------------\u001B[0m",
      "\u001B[0;31mKeyboardInterrupt\u001B[0m                         Traceback (most recent call last)",
      "Input \u001B[0;32mIn [1]\u001B[0m, in \u001B[0;36m<cell line: 2>\u001B[0;34m()\u001B[0m\n\u001B[1;32m      1\u001B[0m \u001B[38;5;66;03m# import modules\u001B[39;00m\n\u001B[0;32m----> 2\u001B[0m \u001B[38;5;28;01mimport\u001B[39;00m \u001B[38;5;21;01mmatplotlib\u001B[39;00m\u001B[38;5;21;01m.\u001B[39;00m\u001B[38;5;21;01mpyplot\u001B[39;00m \u001B[38;5;28;01mas\u001B[39;00m \u001B[38;5;21;01mplt\u001B[39;00m\n\u001B[1;32m      3\u001B[0m \u001B[38;5;28;01mimport\u001B[39;00m \u001B[38;5;21;01mnumpy\u001B[39;00m \u001B[38;5;28;01mas\u001B[39;00m \u001B[38;5;21;01mnp\u001B[39;00m\n\u001B[1;32m      4\u001B[0m \u001B[38;5;28;01mfrom\u001B[39;00m \u001B[38;5;21;01mmatplotlib\u001B[39;00m \u001B[38;5;28;01mimport\u001B[39;00m rcParams, cycler\n",
      "File \u001B[0;32m~/miniconda3/envs/ds-academy-development/lib/python3.9/site-packages/matplotlib/__init__.py:208\u001B[0m, in \u001B[0;36m<module>\u001B[0;34m\u001B[0m\n\u001B[1;32m    203\u001B[0m         \u001B[38;5;28;01mif\u001B[39;00m parse_version(module\u001B[38;5;241m.\u001B[39m__version__) \u001B[38;5;241m<\u001B[39m parse_version(minver):\n\u001B[1;32m    204\u001B[0m             \u001B[38;5;28;01mraise\u001B[39;00m \u001B[38;5;167;01mImportError\u001B[39;00m(\u001B[38;5;124mf\u001B[39m\u001B[38;5;124m\"\u001B[39m\u001B[38;5;124mMatplotlib requires \u001B[39m\u001B[38;5;132;01m{\u001B[39;00mmodname\u001B[38;5;132;01m}\u001B[39;00m\u001B[38;5;124m>=\u001B[39m\u001B[38;5;132;01m{\u001B[39;00mminver\u001B[38;5;132;01m}\u001B[39;00m\u001B[38;5;124m; \u001B[39m\u001B[38;5;124m\"\u001B[39m\n\u001B[1;32m    205\u001B[0m                               \u001B[38;5;124mf\u001B[39m\u001B[38;5;124m\"\u001B[39m\u001B[38;5;124myou have \u001B[39m\u001B[38;5;132;01m{\u001B[39;00mmodule\u001B[38;5;241m.\u001B[39m__version__\u001B[38;5;132;01m}\u001B[39;00m\u001B[38;5;124m\"\u001B[39m)\n\u001B[0;32m--> 208\u001B[0m \u001B[43m_check_versions\u001B[49m\u001B[43m(\u001B[49m\u001B[43m)\u001B[49m\n\u001B[1;32m    211\u001B[0m \u001B[38;5;66;03m# The decorator ensures this always returns the same handler (and it is only\u001B[39;00m\n\u001B[1;32m    212\u001B[0m \u001B[38;5;66;03m# attached once).\u001B[39;00m\n\u001B[1;32m    213\u001B[0m \u001B[38;5;129m@functools\u001B[39m\u001B[38;5;241m.\u001B[39mlru_cache()\n\u001B[1;32m    214\u001B[0m \u001B[38;5;28;01mdef\u001B[39;00m \u001B[38;5;21m_ensure_handler\u001B[39m():\n",
      "File \u001B[0;32m~/miniconda3/envs/ds-academy-development/lib/python3.9/site-packages/matplotlib/__init__.py:202\u001B[0m, in \u001B[0;36m_check_versions\u001B[0;34m()\u001B[0m\n\u001B[1;32m    193\u001B[0m \u001B[38;5;28;01mfrom\u001B[39;00m \u001B[38;5;21;01m.\u001B[39;00m \u001B[38;5;28;01mimport\u001B[39;00m ft2font\n\u001B[1;32m    195\u001B[0m \u001B[38;5;28;01mfor\u001B[39;00m modname, minver \u001B[38;5;129;01min\u001B[39;00m [\n\u001B[1;32m    196\u001B[0m         (\u001B[38;5;124m\"\u001B[39m\u001B[38;5;124mcycler\u001B[39m\u001B[38;5;124m\"\u001B[39m, \u001B[38;5;124m\"\u001B[39m\u001B[38;5;124m0.10\u001B[39m\u001B[38;5;124m\"\u001B[39m),\n\u001B[1;32m    197\u001B[0m         (\u001B[38;5;124m\"\u001B[39m\u001B[38;5;124mdateutil\u001B[39m\u001B[38;5;124m\"\u001B[39m, \u001B[38;5;124m\"\u001B[39m\u001B[38;5;124m2.7\u001B[39m\u001B[38;5;124m\"\u001B[39m),\n\u001B[0;32m   (...)\u001B[0m\n\u001B[1;32m    200\u001B[0m         (\u001B[38;5;124m\"\u001B[39m\u001B[38;5;124mpyparsing\u001B[39m\u001B[38;5;124m\"\u001B[39m, \u001B[38;5;124m\"\u001B[39m\u001B[38;5;124m2.2.1\u001B[39m\u001B[38;5;124m\"\u001B[39m),\n\u001B[1;32m    201\u001B[0m ]:\n\u001B[0;32m--> 202\u001B[0m     module \u001B[38;5;241m=\u001B[39m \u001B[43mimportlib\u001B[49m\u001B[38;5;241;43m.\u001B[39;49m\u001B[43mimport_module\u001B[49m\u001B[43m(\u001B[49m\u001B[43mmodname\u001B[49m\u001B[43m)\u001B[49m\n\u001B[1;32m    203\u001B[0m     \u001B[38;5;28;01mif\u001B[39;00m parse_version(module\u001B[38;5;241m.\u001B[39m__version__) \u001B[38;5;241m<\u001B[39m parse_version(minver):\n\u001B[1;32m    204\u001B[0m         \u001B[38;5;28;01mraise\u001B[39;00m \u001B[38;5;167;01mImportError\u001B[39;00m(\u001B[38;5;124mf\u001B[39m\u001B[38;5;124m\"\u001B[39m\u001B[38;5;124mMatplotlib requires \u001B[39m\u001B[38;5;132;01m{\u001B[39;00mmodname\u001B[38;5;132;01m}\u001B[39;00m\u001B[38;5;124m>=\u001B[39m\u001B[38;5;132;01m{\u001B[39;00mminver\u001B[38;5;132;01m}\u001B[39;00m\u001B[38;5;124m; \u001B[39m\u001B[38;5;124m\"\u001B[39m\n\u001B[1;32m    205\u001B[0m                           \u001B[38;5;124mf\u001B[39m\u001B[38;5;124m\"\u001B[39m\u001B[38;5;124myou have \u001B[39m\u001B[38;5;132;01m{\u001B[39;00mmodule\u001B[38;5;241m.\u001B[39m__version__\u001B[38;5;132;01m}\u001B[39;00m\u001B[38;5;124m\"\u001B[39m)\n",
      "File \u001B[0;32m~/miniconda3/envs/ds-academy-development/lib/python3.9/importlib/__init__.py:127\u001B[0m, in \u001B[0;36mimport_module\u001B[0;34m(name, package)\u001B[0m\n\u001B[1;32m    125\u001B[0m             \u001B[38;5;28;01mbreak\u001B[39;00m\n\u001B[1;32m    126\u001B[0m         level \u001B[38;5;241m+\u001B[39m\u001B[38;5;241m=\u001B[39m \u001B[38;5;241m1\u001B[39m\n\u001B[0;32m--> 127\u001B[0m \u001B[38;5;28;01mreturn\u001B[39;00m \u001B[43m_bootstrap\u001B[49m\u001B[38;5;241;43m.\u001B[39;49m\u001B[43m_gcd_import\u001B[49m\u001B[43m(\u001B[49m\u001B[43mname\u001B[49m\u001B[43m[\u001B[49m\u001B[43mlevel\u001B[49m\u001B[43m:\u001B[49m\u001B[43m]\u001B[49m\u001B[43m,\u001B[49m\u001B[43m \u001B[49m\u001B[43mpackage\u001B[49m\u001B[43m,\u001B[49m\u001B[43m \u001B[49m\u001B[43mlevel\u001B[49m\u001B[43m)\u001B[49m\n",
      "File \u001B[0;32m~/miniconda3/envs/ds-academy-development/lib/python3.9/site-packages/kiwisolver/__init__.py:8\u001B[0m, in \u001B[0;36m<module>\u001B[0;34m\u001B[0m\n\u001B[1;32m      1\u001B[0m \u001B[38;5;66;03m# --------------------------------------------------------------------------------------\u001B[39;00m\n\u001B[1;32m      2\u001B[0m \u001B[38;5;66;03m# Copyright (c) 2013-2022, Nucleic Development Team.\u001B[39;00m\n\u001B[1;32m      3\u001B[0m \u001B[38;5;66;03m#\u001B[39;00m\n\u001B[0;32m   (...)\u001B[0m\n\u001B[1;32m      6\u001B[0m \u001B[38;5;66;03m# The full license is in the file LICENSE, distributed with this software.\u001B[39;00m\n\u001B[1;32m      7\u001B[0m \u001B[38;5;66;03m# --------------------------------------------------------------------------------------\u001B[39;00m\n\u001B[0;32m----> 8\u001B[0m \u001B[38;5;28;01mfrom\u001B[39;00m \u001B[38;5;21;01m.\u001B[39;00m\u001B[38;5;21;01m_cext\u001B[39;00m \u001B[38;5;28;01mimport\u001B[39;00m (\n\u001B[1;32m      9\u001B[0m     BadRequiredStrength,\n\u001B[1;32m     10\u001B[0m     Constraint,\n\u001B[1;32m     11\u001B[0m     DuplicateConstraint,\n\u001B[1;32m     12\u001B[0m     DuplicateEditVariable,\n\u001B[1;32m     13\u001B[0m     Expression,\n\u001B[1;32m     14\u001B[0m     Solver,\n\u001B[1;32m     15\u001B[0m     Term,\n\u001B[1;32m     16\u001B[0m     UnknownConstraint,\n\u001B[1;32m     17\u001B[0m     UnknownEditVariable,\n\u001B[1;32m     18\u001B[0m     UnsatisfiableConstraint,\n\u001B[1;32m     19\u001B[0m     Variable,\n\u001B[1;32m     20\u001B[0m     __kiwi_version__,\n\u001B[1;32m     21\u001B[0m     __version__,\n\u001B[1;32m     22\u001B[0m     strength,\n\u001B[1;32m     23\u001B[0m )\n\u001B[1;32m     25\u001B[0m __all__ \u001B[38;5;241m=\u001B[39m [\n\u001B[1;32m     26\u001B[0m     \u001B[38;5;124m\"\u001B[39m\u001B[38;5;124mBadRequiredStrength\u001B[39m\u001B[38;5;124m\"\u001B[39m,\n\u001B[1;32m     27\u001B[0m     \u001B[38;5;124m\"\u001B[39m\u001B[38;5;124mDuplicateConstraint\u001B[39m\u001B[38;5;124m\"\u001B[39m,\n\u001B[0;32m   (...)\u001B[0m\n\u001B[1;32m     39\u001B[0m     \u001B[38;5;124m\"\u001B[39m\u001B[38;5;124m__kiwi_version__\u001B[39m\u001B[38;5;124m\"\u001B[39m,\n\u001B[1;32m     40\u001B[0m ]\n",
      "\u001B[0;31mKeyboardInterrupt\u001B[0m: "
     ]
    }
   ],
   "source": [
    "# import modules\n",
    "import matplotlib.pyplot as plt\n",
    "import numpy as np\n",
    "from matplotlib import rcParams, cycler\n",
    "from matplotlib.lines import Line2D\n",
    "\n",
    "# fixing random state for reproducibility\n",
    "np.random.seed(19680801)\n",
    "\n",
    "# generate data\n",
    "N = 10\n",
    "data = [np.logspace(0, 1, 100) + np.random.randn(100) + ii for ii in range(N)]\n",
    "data = np.array(data).T\n",
    "cmap = plt.cm.coolwarm\n",
    "rcParams['axes.prop_cycle'] = cycler(color=cmap(np.linspace(0, 1, N)))\n",
    "custom_lines = [\n",
    "    Line2D([0], [0], color=cmap(0.), lw=4),\n",
    "    Line2D([0], [0], color=cmap(.5), lw=4),\n",
    "    Line2D([0], [0], color=cmap(1.), lw=4)\n",
    "]\n",
    "\n",
    "# create an instance of the plot\n",
    "_, ax = plt.subplots(figsize=(10, 5))\n",
    "lines = ax.plot(data)\n",
    "ax.legend(custom_lines, ['Cold', 'Medium', 'Hot'])\n",
    "ax.set_title('An Example of a plot');"
   ],
   "metadata": {
    "collapsed": false,
    "pycharm": {
     "name": "#%%\n"
    }
   }
  },
  {
   "cell_type": "markdown",
   "source": [
    "### Help and Documentation\n",
    "\n",
    "The Python language is built with the user in mind. Every Python object references a string, known as a _doc string_, which in most cases includes a concise summary of the object and how to use it. Python has a built-in `help()` function to access this information and print the results. For example, to see the documentation of the built-in `sum` function, you can do the following:"
   ],
   "metadata": {
    "collapsed": false,
    "pycharm": {
     "name": "#%% md\n"
    }
   }
  },
  {
   "cell_type": "code",
   "execution_count": null,
   "outputs": [],
   "source": [
    "help(sum)"
   ],
   "metadata": {
    "collapsed": false,
    "pycharm": {
     "name": "#%%\n"
    }
   }
  },
  {
   "cell_type": "markdown",
   "source": [
    "Jupyter also introduces the `?` character as a shorthand for accessing this documentation and other relevant information:"
   ],
   "metadata": {
    "collapsed": false,
    "pycharm": {
     "name": "#%% md\n"
    }
   }
  },
  {
   "cell_type": "code",
   "execution_count": null,
   "outputs": [],
   "source": [
    "L = [1, 2, 3]\n",
    "L?"
   ],
   "metadata": {
    "collapsed": false,
    "pycharm": {
     "name": "#%%\n"
    }
   }
  },
  {
   "cell_type": "markdown",
   "source": [
    "### Adding Rich Content (Markdown)\n",
    "\n",
    "There are additional types of cells to code. Jupyter Notebook supports adding rich content to its cells as well. To do so, we will use [Markdown](https://www.markdownguide.org/). It is a lightweight, easy-to-learn markup language for formatting plain text. Its syntax has a one-to-one correspondence with HTML tags.\n",
    "\n",
    "> ✏️ We also use Markdown to prepare materials for the course.\n",
    "\n",
    "There is an overview of some basics to get you started:\n",
    "\n",
    "~~~markdown\n",
    "# This is a level 1 heading\n",
    "\n",
    "## This is a level 2 heading\n",
    "\n",
    "This is some plain text that forms a paragraph. Add emphasis via **bold** and __bold__, or *italic* and _italic_.\n",
    "\n",
    "Paragraphs must be separated by an empty line.\n",
    "\n",
    "* Sometimes we want to include lists.\n",
    "* Which can be bulleted using asterisks.\n",
    "\n",
    "1. Lists can also be numbered.\n",
    "2. If we want an ordered list.\n",
    "\n",
    "[It is possible to include hyperlinks](https://www.example.com)\n",
    "\n",
    "Inline code uses single backticks: `foo()`, and code blocks use triple backticks:\n",
    "\n",
    "```\n",
    "bar()\n",
    "```\n",
    "\n",
    "Or can be indented by 4 spaces:\n",
    "\n",
    "    foo()\n",
    "\n",
    "And finally, adding images is easy: ![Alt text](https://www.example.com/image.jpg)\n",
    "~~~\n",
    "\n",
    "### Line Magics\n",
    "\n",
    "Jupyter adds on top of the standard Python syntax. Those enhancements are known as _magic commands_. Magic commands come in two flavors: _line magics_, which are denoted by a single `%` prefix and operate on a single line of input, and _cell magics_, which are represented by a double `%%` prefix and work on multiple lines of input.\n",
    "\n",
    "Let's use `%timeit` to get a sense of the time it takes to execute `[1] * 100`:"
   ],
   "metadata": {
    "collapsed": false,
    "pycharm": {
     "name": "#%% md\n"
    }
   }
  },
  {
   "cell_type": "code",
   "execution_count": null,
   "outputs": [],
   "source": [
    "%timeit [1] * 100"
   ],
   "metadata": {
    "collapsed": false,
    "pycharm": {
     "name": "#%%\n"
    }
   }
  },
  {
   "cell_type": "markdown",
   "source": [
    "To learn what _magic commands_ are available in your environment, use `%lsmagic`."
   ],
   "metadata": {
    "collapsed": false,
    "pycharm": {
     "name": "#%% md\n"
    }
   }
  },
  {
   "cell_type": "markdown",
   "source": [
    "### Errors and Debugging\n",
    "\n",
    "Development always requires a bit of trial and error. When a Python script fails, it will often raise an Exception. The information about the cause of the error can be found in the _traceback_. Luckily enough, Jupyter prints the cause of the exception:"
   ],
   "metadata": {
    "collapsed": false,
    "pycharm": {
     "name": "#%% md\n"
    }
   }
  },
  {
   "cell_type": "code",
   "execution_count": null,
   "outputs": [],
   "source": [
    "# create a method that rises an Exception\n",
    "def func1(a):\n",
    "    return a / 0\n",
    "\n",
    "# run the function\n",
    "func1(2)"
   ],
   "metadata": {
    "collapsed": false,
    "pycharm": {
     "name": "#%%\n"
    }
   }
  },
  {
   "cell_type": "markdown",
   "source": [],
   "metadata": {
    "collapsed": false,
    "pycharm": {
     "name": "#%% md\n"
    }
   }
  }
 ],
 "metadata": {
  "kernelspec": {
   "display_name": "Python 3",
   "language": "python",
   "name": "python3"
  },
  "language_info": {
   "codemirror_mode": {
    "name": "ipython",
    "version": 3
   },
   "file_extension": ".py",
   "mimetype": "text/x-python",
   "name": "python",
   "nbconvert_exporter": "python",
   "pygments_lexer": "ipython3",
   "version": "3.8.0"
  },
  "widgets": {
   "application/vnd.jupyter.widget-state+json": {
    "state": {},
    "version_major": 2,
    "version_minor": 0
   }
  }
 },
 "nbformat": 4,
 "nbformat_minor": 4
}