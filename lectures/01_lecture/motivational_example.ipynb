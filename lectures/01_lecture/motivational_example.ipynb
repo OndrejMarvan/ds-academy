{
 "cells": [
  {
   "cell_type": "markdown",
   "source": [
    "# Motivational Example\n",
    "\n",
    "Let's start our course with a motivational example demonstrating a **simple end-to-end Machine Learning project** from start to finish to show you what a typical data science workflow looks like.\n",
    "\n",
    "The example is complex on purpose as it introduces topics from almost all upcoming lectures:\n",
    "\n",
    "- Intro to the environment and tools + Python basics\n",
    "- Understanding, extracting, sourcing, and processing data\n",
    "- What is AI/ML & Basic concepts in AI/ML & AI project and workflow\n",
    "- (Zoo of) ML techniques (algorithms) & Training and improving ML models (ML Pipelines)\n",
    "- Evaluating, comparing, and selecting ML models\n",
    "\n",
    "At the end of the course, you will have a deeper understanding and some practical experience with those topics.\n",
    "\n",
    "## The Problem\n",
    "\n",
    "We are helping a client to build a mobile app for field researchers that helps them identify and track flower species. With a new app version, the client wants to automate the identification part somewhat.\n",
    "\n",
    "At first, the client wants to assess the feasibility of this potential feature by building a POC. Luckily, the client can provide a reasonable [dataset](https://archive.ics.uci.edu/ml/datasets/iris) consisting of **four measurements** (sepal length, sepal width, petal length, and petal width) and **identity** (Iris-Setosa, Iris-Versicolour, Iris-Virginica) per sample.\n",
    "\n",
    "![An example of Iris plant](../../static/images/petal_sepal.jpeg \"An example of Iris plant\")\n",
    "\n",
    "> ✏️ The example is inspired by {cite}`rhiever`. Some sections are reduced or extended compare to the original example."
   ],
   "metadata": {
    "collapsed": false,
    "pycharm": {
     "name": "#%% md\n"
    }
   }
  },
  {
   "cell_type": "markdown",
   "source": [
    "TODO: load dataset"
   ],
   "metadata": {
    "collapsed": false,
    "pycharm": {
     "name": "#%% md\n"
    }
   }
  },
  {
   "cell_type": "markdown",
   "source": [
    "TODO: EDA"
   ],
   "metadata": {
    "collapsed": false,
    "pycharm": {
     "name": "#%% md\n"
    }
   }
  },
  {
   "cell_type": "markdown",
   "source": [
    "TODO: Solving classification problem"
   ],
   "metadata": {
    "collapsed": false,
    "pycharm": {
     "name": "#%% md\n"
    }
   }
  },
  {
   "cell_type": "markdown",
   "source": [
    "TODO: Exercises"
   ],
   "metadata": {
    "collapsed": false,
    "pycharm": {
     "name": "#%% md\n"
    }
   }
  },
  {
   "cell_type": "markdown",
   "source": [
    "## Resources\n",
    "\n",
    "```{bibliography}\n",
    ":filter: docname in docnames\n",
    "```"
   ],
   "metadata": {
    "collapsed": false,
    "pycharm": {
     "name": "#%% md\n"
    }
   }
  }
 ],
 "metadata": {
  "kernelspec": {
   "display_name": "Python 3",
   "language": "python",
   "name": "python3"
  },
  "language_info": {
   "codemirror_mode": {
    "name": "ipython",
    "version": 3
   },
   "file_extension": ".py",
   "mimetype": "text/x-python",
   "name": "python",
   "nbconvert_exporter": "python",
   "pygments_lexer": "ipython3",
   "version": "3.8.0"
  },
  "widgets": {
   "application/vnd.jupyter.widget-state+json": {
    "state": {},
    "version_major": 2,
    "version_minor": 0
   }
  }
 },
 "nbformat": 4,
 "nbformat_minor": 4
}