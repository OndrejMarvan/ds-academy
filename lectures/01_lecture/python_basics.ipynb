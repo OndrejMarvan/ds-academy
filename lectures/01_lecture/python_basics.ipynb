{
 "cells": [
  {
   "cell_type": "markdown",
   "source": [
    "# Python Basics\n",
    "\n",
    "The goal of this section is to give **seasoned developers** some introduction to Python. We will primarily focus on crucial differences in Python and other languages helpful for this course. The introduction of significant libraries relevant to data wrangling, analysis, and Machine Learning will come later during the course.\n",
    "\n",
    "> ✏️ The example is inspired by {cite}`tomasbeuzen`. Some sections are reduced or extended compared to the original example.\n",
    "\n",
    "## Data Types\n",
    "\n",
    "Let's start with an overview of Common built-in Python data types. See the [Python 3 documentation](https://docs.python.org/3/library/stdtypes.html) for a summary of the standard built-in Python datatypes.\n",
    "\n",
    "| English name          | Type name  | Type Category  | Description                                   | Example                                    |\n",
    "|:----------------------|:-----------|:---------------|:----------------------------------------------|:-------------------------------------------|\n",
    "| integer               | `int`      | Numeric Type   | positive/negative whole numbers               | `42`                                       |\n",
    "| floating point number | `float`    | Numeric Type   | real number in decimal form                   | `3.14159`                                  |\n",
    "| boolean               | `bool`     | Boolean Values | true or false                                 | `True`                                     |\n",
    "| string                | `str`      | Sequence Type  | text                                          | `\\\"I Can Has Cheezburger?\\\"`               |\n",
    "| list                  | `list`     | Sequence Type  | a collection of objects - mutable & ordered   | `['Ali', 'Xinyi', 'Miriam']`               |\n",
    "| tuple                 | `tuple`    | Sequence Type  | a collection of objects - immutable & ordered | `('Thursday', 6, 9, 2018)`                 |\n",
    "| dictionary            | `dict`     | Mapping Type   | mapping of key-value pairs                    | `{'name':'DSCI', 'code':511, 'credits':2}` |\n",
    "| none                  | `NoneType` | Null Object    | represents no value                           | `None`                                     |\n",
    "\n",
    "TODO: sequences and indexing + slicing\n",
    "\n",
    "TODO: for loops and comprehensions\n",
    "\n",
    "TODO: functions\n",
    "\n",
    "TODO: debugging and testing"
   ],
   "metadata": {
    "collapsed": false,
    "pycharm": {
     "name": "#%% md\n"
    }
   }
  },
  {
   "cell_type": "markdown",
   "source": [
    "TODO: Exercises - 1 to 2x per each"
   ],
   "metadata": {
    "collapsed": false,
    "pycharm": {
     "name": "#%% md\n"
    }
   }
  },
  {
   "cell_type": "markdown",
   "source": [
    "## Resources\n",
    "\n",
    "```{bibliography}\n",
    ":filter: docname in docnames\n",
    "```"
   ],
   "metadata": {
    "collapsed": false,
    "pycharm": {
     "name": "#%% md\n"
    }
   }
  }
 ],
 "metadata": {
  "kernelspec": {
   "display_name": "Python 3",
   "language": "python",
   "name": "python3"
  },
  "language_info": {
   "codemirror_mode": {
    "name": "ipython",
    "version": 3
   },
   "file_extension": ".py",
   "mimetype": "text/x-python",
   "name": "python",
   "nbconvert_exporter": "python",
   "pygments_lexer": "ipython3",
   "version": "3.8.0"
  },
  "widgets": {
   "application/vnd.jupyter.widget-state+json": {
    "state": {},
    "version_major": 2,
    "version_minor": 0
   }
  }
 },
 "nbformat": 4,
 "nbformat_minor": 4
}