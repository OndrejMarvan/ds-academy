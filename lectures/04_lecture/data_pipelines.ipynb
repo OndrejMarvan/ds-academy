{
 "cells": [
  {
   "cell_type": "markdown",
   "metadata": {},
   "source": [
    "## LECTURE 4: ML MODELS"
   ]
  },
  {
   "cell_type": "markdown",
   "metadata": {},
   "source": [
    "In this lecture we are going to build upon the knowledge of last week. In addition to this notebook there are a few slides that explain the various ML models slighly deeper. \n",
    "\n",
    "This week you will learn:\n",
    "* How to set-up a start-to-end data model."
   ]
  },
  {
   "cell_type": "code",
   "execution_count": 1,
   "metadata": {},
   "outputs": [],
   "source": [
    "import numpy as np\n",
    "import pandas as pd\n",
    "import random\n",
    "import matplotlib.pyplot as plt"
   ]
  },
  {
   "cell_type": "code",
   "execution_count": 2,
   "metadata": {},
   "outputs": [],
   "source": [
    "from sklearn.feature_extraction.text import TfidfVectorizer, CountVectorizer\n",
    "from sklearn.preprocessing import OneHotEncoder, StandardScaler, MinMaxScaler\n",
    "from sklearn.compose import ColumnTransformer\n",
    "from sklearn.pipeline import Pipeline\n",
    "from sklearn.linear_model import LogisticRegression\n",
    "from sklearn.neural_network import MLPClassifier\n",
    "from sklearn.datasets import make_classification\n",
    "from sklearn.model_selection import train_test_split\n",
    "from sklearn.ensemble import RandomForestClassifier"
   ]
  },
  {
   "cell_type": "markdown",
   "metadata": {},
   "source": [
    "## DATA PIPELINE"
   ]
  },
  {
   "cell_type": "markdown",
   "metadata": {},
   "source": [
    "To illustrate the use of data pipelines, we are going to generate data using the function below. The task will be a classification task and will contain both numerical and categorical features."
   ]
  },
  {
   "cell_type": "code",
   "execution_count": 3,
   "metadata": {},
   "outputs": [],
   "source": [
    "from secrets import choice\n",
    "\n",
    "\n",
    "def generate_dataset(n_samples: int=1000, n_features: int=6, flip_y: float=0.2):\n",
    "    \"\"\"\n",
    "    Function to generate data\n",
    "    \"\"\"\n",
    "    random.seed(123)\n",
    "    \n",
    "    X, y = make_classification(\n",
    "        n_samples=n_samples, n_features=n_features-1,\n",
    "        n_classes=3, n_informative=3, flip_y=flip_y\n",
    "        )\n",
    "\n",
    "    # convert from numpy to pandas\n",
    "    X = pd.DataFrame(X)\n",
    "    y = pd.Series(y)\n",
    "\n",
    "    # pick a few features at random to convert to categorical\n",
    "    cat_cols = np.sort(\n",
    "        np.random.choice(\n",
    "            X.columns, size=int(len(X.columns)/3), replace=False\n",
    "        )\n",
    "    )\n",
    "\n",
    "    # conver numerical features to categorical\n",
    "    X.iloc[:, cat_cols] = X.iloc[:, cat_cols].apply(\n",
    "        lambda col: np.round((col - min(col)) / (max(col) - min(col)) * 3, 0),\n",
    "        axis=0\n",
    "    )\n",
    "\n",
    "    X.iloc[:, cat_cols] = X.iloc[:, cat_cols].values.astype(str)\n",
    "\n",
    "    # convert column names to indicate whether numerical/categorical\n",
    "    cat_rename_mapper = {\n",
    "        column: 'categorical_' + str(index) for index, column in enumerate(cat_cols)\n",
    "        }\n",
    "    num_rename_mapper = {\n",
    "        column: 'numerical_' + str(index) for index, column in enumerate(\n",
    "            X.columns.symmetric_difference(cat_cols))\n",
    "        }\n",
    "    rename_maper = {**cat_rename_mapper, **num_rename_mapper}\n",
    "    X.rename(columns=rename_maper, inplace=True)\n",
    "\n",
    "    # split data in train/test\n",
    "    X_train, X_test, y_train, y_test = train_test_split(X, y, random_state=0)\n",
    "\n",
    "    return X_train, X_test, y_train, y_test\n",
    "\n",
    "X_train, X_test, y_train, y_test = generate_dataset()"
   ]
  },
  {
   "cell_type": "markdown",
   "metadata": {},
   "source": [
    "For our data pipeline, we need to know which features are categorical or numerical. Both types of variables require different steps."
   ]
  },
  {
   "cell_type": "code",
   "execution_count": 4,
   "metadata": {},
   "outputs": [],
   "source": [
    "categorical_cols = [column for column in X_train.columns if 'categorical' in column]\n",
    "numerical_cols = [column for column in X_train.columns if 'numerical' in column]"
   ]
  },
  {
   "cell_type": "code",
   "execution_count": 5,
   "metadata": {},
   "outputs": [],
   "source": [
    "# create ColumnTransformer, and pass the column names to transform in each step\n",
    "\n",
    "def make_pipeline(categorical_cols=[], numerical_cols=[], classifier=LogisticRegression()):\n",
    "    preprocessor = ColumnTransformer(\n",
    "        [\n",
    "            ('ohe', OneHotEncoder(drop='first', handle_unknown='ignore'), categorical_cols),\n",
    "            ('scale', StandardScaler(), numerical_cols)\n",
    "        ]\n",
    "    )\n",
    "\n",
    "    clf = Pipeline(\n",
    "        steps=[\n",
    "            ('preprocessor', preprocessor),\n",
    "            ('classifier', classifier)\n",
    "        ]\n",
    "    )\n",
    "\n",
    "    return clf\n"
   ]
  },
  {
   "cell_type": "markdown",
   "metadata": {},
   "source": [
    "Now that we have defined our pipeline, let's see how different models will perform on our generated data. We define the models that we want to test below."
   ]
  },
  {
   "cell_type": "code",
   "execution_count": 6,
   "metadata": {},
   "outputs": [],
   "source": [
    "models_to_run = [\n",
    "    LogisticRegression(multi_class='multinomial'),\n",
    "    RandomForestClassifier(max_depth=2),\n",
    "    RandomForestClassifier(max_depth=5),\n",
    "    RandomForestClassifier(max_depth=10),\n",
    "    RandomForestClassifier(max_depth=20),\n",
    "    RandomForestClassifier(max_depth=80),\n",
    "    MLPClassifier(hidden_layer_sizes=2),\n",
    "    MLPClassifier(hidden_layer_sizes=6),\n",
    "    MLPClassifier(hidden_layer_sizes=10),\n",
    "    MLPClassifier(hidden_layer_sizes=20),\n",
    "    MLPClassifier(hidden_layer_sizes=40)\n",
    "    ]"
   ]
  },
  {
   "cell_type": "markdown",
   "metadata": {},
   "source": [
    "The standard classification metric to evaluate our models is the Accuracy. This metric works ok in generic situations, but might not be the best in cases where the distribution of the target, y, is not even. This situation is normally referred to as **unbalanced**.\n",
    "\n",
    "We will quickly assess our target distribution before we continue."
   ]
  },
  {
   "cell_type": "code",
   "execution_count": 7,
   "metadata": {},
   "outputs": [
    {
     "data": {
      "text/plain": [
       "([<matplotlib.patches.Wedge at 0x145cd48b0>,\n",
       "  <matplotlib.patches.Wedge at 0x145cd4d90>,\n",
       "  <matplotlib.patches.Wedge at 0x145cec2b0>],\n",
       " [Text(0.5055377859484393, 0.9769501251232583, '0'),\n",
       "  Text(-1.0957469528305661, -0.09663651153952797, '1'),\n",
       "  Text(0.589409756217076, -0.9287605392544018, '2')])"
      ]
     },
     "execution_count": 7,
     "metadata": {},
     "output_type": "execute_result"
    },
    {
     "data": {
      "image/png": "[encoded data removed]",
      "text/plain": [
       "<Figure size 640x480 with 1 Axes>"
      ]
     },
     "metadata": {},
     "output_type": "display_data"
    }
   ],
   "source": [
    "plt.pie(np.bincount(y_train) / len(y_train), labels=np.unique(y_train))"
   ]
  },
  {
   "cell_type": "markdown",
   "metadata": {},
   "source": [
    "The distribution is approximately even, so we continue. We will now run the models on our data, store the clasification results (the Accuracy!) and show them using a pandas dataframe."
   ]
  },
  {
   "cell_type": "code",
   "execution_count": 8,
   "metadata": {},
   "outputs": [
    {
     "name": "stderr",
     "output_type": "stream",
     "text": [
      "/usr/local/Caskroom/miniconda/base/envs/lecture03/lib/python3.9/site-packages/sklearn/neural_network/_multilayer_perceptron.py:702: ConvergenceWarning: Stochastic Optimizer: Maximum iterations (200) reached and the optimization hasn't converged yet.\n",
      "  warnings.warn(\n",
      "/usr/local/Caskroom/miniconda/base/envs/lecture03/lib/python3.9/site-packages/sklearn/neural_network/_multilayer_perceptron.py:702: ConvergenceWarning: Stochastic Optimizer: Maximum iterations (200) reached and the optimization hasn't converged yet.\n",
      "  warnings.warn(\n",
      "/usr/local/Caskroom/miniconda/base/envs/lecture03/lib/python3.9/site-packages/sklearn/neural_network/_multilayer_perceptron.py:702: ConvergenceWarning: Stochastic Optimizer: Maximum iterations (200) reached and the optimization hasn't converged yet.\n",
      "  warnings.warn(\n",
      "/usr/local/Caskroom/miniconda/base/envs/lecture03/lib/python3.9/site-packages/sklearn/neural_network/_multilayer_perceptron.py:702: ConvergenceWarning: Stochastic Optimizer: Maximum iterations (200) reached and the optimization hasn't converged yet.\n",
      "  warnings.warn(\n",
      "/usr/local/Caskroom/miniconda/base/envs/lecture03/lib/python3.9/site-packages/sklearn/neural_network/_multilayer_perceptron.py:702: ConvergenceWarning: Stochastic Optimizer: Maximum iterations (200) reached and the optimization hasn't converged yet.\n",
      "  warnings.warn(\n"
     ]
    },
    {
     "data": {
      "text/html": [
       "<div>\n",
       "<style scoped>\n",
       "    .dataframe tbody tr th:only-of-type {\n",
       "        vertical-align: middle;\n",
       "    }\n",
       "\n",
       "    .dataframe tbody tr th {\n",
       "        vertical-align: top;\n",
       "    }\n",
       "\n",
       "    .dataframe thead th {\n",
       "        text-align: right;\n",
       "    }\n",
       "</style>\n",
       "<table border=\"1\" class=\"dataframe\">\n",
       "  <thead>\n",
       "    <tr style=\"text-align: right;\">\n",
       "      <th></th>\n",
       "      <th>score</th>\n",
       "    </tr>\n",
       "  </thead>\n",
       "  <tbody>\n",
       "    <tr>\n",
       "      <th>LogisticRegression(multi_class='multinomial')</th>\n",
       "      <td>0.644</td>\n",
       "    </tr>\n",
       "    <tr>\n",
       "      <th>RandomForestClassifier(max_depth=2)</th>\n",
       "      <td>0.600</td>\n",
       "    </tr>\n",
       "    <tr>\n",
       "      <th>RandomForestClassifier(max_depth=5)</th>\n",
       "      <td>0.684</td>\n",
       "    </tr>\n",
       "    <tr>\n",
       "      <th>RandomForestClassifier(max_depth=10)</th>\n",
       "      <td>0.688</td>\n",
       "    </tr>\n",
       "    <tr>\n",
       "      <th>RandomForestClassifier(max_depth=20)</th>\n",
       "      <td>0.688</td>\n",
       "    </tr>\n",
       "    <tr>\n",
       "      <th>RandomForestClassifier(max_depth=80)</th>\n",
       "      <td>0.676</td>\n",
       "    </tr>\n",
       "    <tr>\n",
       "      <th>MLPClassifier(hidden_layer_sizes=2)</th>\n",
       "      <td>0.624</td>\n",
       "    </tr>\n",
       "    <tr>\n",
       "      <th>MLPClassifier(hidden_layer_sizes=6)</th>\n",
       "      <td>0.680</td>\n",
       "    </tr>\n",
       "    <tr>\n",
       "      <th>MLPClassifier(hidden_layer_sizes=10)</th>\n",
       "      <td>0.660</td>\n",
       "    </tr>\n",
       "    <tr>\n",
       "      <th>MLPClassifier(hidden_layer_sizes=20)</th>\n",
       "      <td>0.680</td>\n",
       "    </tr>\n",
       "    <tr>\n",
       "      <th>MLPClassifier(hidden_layer_sizes=40)</th>\n",
       "      <td>0.712</td>\n",
       "    </tr>\n",
       "  </tbody>\n",
       "</table>\n",
       "</div>"
      ],
      "text/plain": [
       "                                               score\n",
       "LogisticRegression(multi_class='multinomial')  0.644\n",
       "RandomForestClassifier(max_depth=2)            0.600\n",
       "RandomForestClassifier(max_depth=5)            0.684\n",
       "RandomForestClassifier(max_depth=10)           0.688\n",
       "RandomForestClassifier(max_depth=20)           0.688\n",
       "RandomForestClassifier(max_depth=80)           0.676\n",
       "MLPClassifier(hidden_layer_sizes=2)            0.624\n",
       "MLPClassifier(hidden_layer_sizes=6)            0.680\n",
       "MLPClassifier(hidden_layer_sizes=10)           0.660\n",
       "MLPClassifier(hidden_layer_sizes=20)           0.680\n",
       "MLPClassifier(hidden_layer_sizes=40)           0.712"
      ]
     },
     "execution_count": 8,
     "metadata": {},
     "output_type": "execute_result"
    }
   ],
   "source": [
    "results = {}\n",
    "for model in models_to_run:\n",
    "\n",
    "    # create instance of the class, feed the model to be tested\n",
    "    clf = make_pipeline(categorical_cols, numerical_cols, model)\n",
    "    clf.fit(X_train, y_train)\n",
    "\n",
    "    # store results in a dictionary \n",
    "    results[str(model)] = clf.score(X_test, y_test)\n",
    "pd.DataFrame.from_dict(results, orient='index', columns=['score'])"
   ]
  },
  {
   "cell_type": "markdown",
   "metadata": {},
   "source": [
    "There are big differences between the performances, but the random forest and the neural network seem to be the big winners. Let's dive in a little bit. \n",
    "\n",
    "### LOGISTIC REGRESSION\n",
    "**Advantages**: interpretable results and should be used in cases where you want to understand relationships.\n",
    "\n",
    "**Disadvantages**: often not able to capture complex/relationships and doesnt work well out of the box if non-linearities are present.\n",
    "\n",
    "### RANDOM FOREST\n",
    "**Advantages**: works very well out of the box. Is resilient against overfitting and is able to capture complex (non-linear) relationships. Almost no data-preprocessing is needed!\n",
    "\n",
    "**Disadvantages**: there are many hyperparamers to tune, not as interpretable as logistic regression.\n",
    "\n",
    "### Neural Network\n",
    "**Advantages**: can model any function. Can lead to very high results, IF tuned properly. \n",
    "\n",
    "**Disadvantages**: very easy to overfit, designing a model can take a long time, almost no interpretability. "
   ]
  },
  {
   "cell_type": "markdown",
   "metadata": {},
   "source": [
    "## WINE DATASET"
   ]
  },
  {
   "cell_type": "markdown",
   "metadata": {},
   "source": [
    "So, let's see how well our pipeline will perform on some real-world examples. Our first stop is the famous 'wine' dataset, where we ought to predict the quality of wines given several features."
   ]
  },
  {
   "cell_type": "code",
   "execution_count": 9,
   "metadata": {},
   "outputs": [],
   "source": [
    "wine = pd.read_csv(\"winequality-red.csv\")"
   ]
  },
  {
   "cell_type": "code",
   "execution_count": 10,
   "metadata": {},
   "outputs": [
    {
     "data": {
      "text/plain": [
       "Index(['fixed acidity', 'volatile acidity', 'citric acid', 'residual sugar',\n",
       "       'chlorides', 'free sulfur dioxide', 'total sulfur dioxide', 'density',\n",
       "       'pH', 'sulphates', 'alcohol', 'quality'],\n",
       "      dtype='object')"
      ]
     },
     "execution_count": 10,
     "metadata": {},
     "output_type": "execute_result"
    }
   ],
   "source": [
    "wine.columns"
   ]
  },
  {
   "cell_type": "code",
   "execution_count": 11,
   "metadata": {},
   "outputs": [],
   "source": [
    "y_wine = wine['quality']\n",
    "X_wine = wine.drop(['quality'], axis=1)"
   ]
  },
  {
   "cell_type": "markdown",
   "metadata": {},
   "source": [
    "Relabel the labels to something more meaningful than the current numbers."
   ]
  },
  {
   "cell_type": "code",
   "execution_count": 12,
   "metadata": {},
   "outputs": [],
   "source": [
    "# Create Classification version of target variable\n",
    "y_wine = pd.Series([1 if x >= 7 else 0 for x in y_wine])"
   ]
  },
  {
   "cell_type": "code",
   "execution_count": 13,
   "metadata": {},
   "outputs": [],
   "source": [
    "y_wine = y_wine.replace({0: 'medium', 1: 'excellent'})"
   ]
  },
  {
   "cell_type": "markdown",
   "metadata": {},
   "source": [
    "The distribution of the labels will give use some indications how we should treat this problem."
   ]
  },
  {
   "cell_type": "code",
   "execution_count": 14,
   "metadata": {},
   "outputs": [
    {
     "data": {
      "image/png": "[encoded data removed]",
      "text/plain": [
       "<Figure size 640x480 with 1 Axes>"
      ]
     },
     "metadata": {},
     "output_type": "display_data"
    }
   ],
   "source": [
    "labels_wine, counts_wine = np.unique(y_wine, return_counts=True)\n",
    "plt.pie(counts_wine / len(y_wine), labels=labels_wine, autopct='%1.1f%%')\n",
    "plt.title('Distribution of wine labels')\n",
    "plt.axis('equal')\n",
    "plt.show()\n"
   ]
  },
  {
   "cell_type": "markdown",
   "metadata": {},
   "source": [
    "The distribution of the labels is a off. It means that we can get 86% accuracy by always predicting 'mediun'. Therefor we need a metric that somehow corrects for this. We find our corrected metric in someone called the 'F1 score'. "
   ]
  },
  {
   "cell_type": "code",
   "execution_count": 15,
   "metadata": {},
   "outputs": [
    {
     "data": {
      "text/plain": [
       "fixed acidity           0.060038\n",
       "volatile acidity        0.089431\n",
       "citric acid             0.050031\n",
       "residual sugar          0.056911\n",
       "chlorides               0.095685\n",
       "free sulfur dioxide     0.037523\n",
       "total sulfur dioxide    0.090056\n",
       "density                 0.272670\n",
       "pH                      0.055660\n",
       "sulphates               0.060038\n",
       "alcohol                 0.040650\n",
       "dtype: float64"
      ]
     },
     "execution_count": 15,
     "metadata": {},
     "output_type": "execute_result"
    }
   ],
   "source": [
    "X_wine.nunique() / X_wine.shape[0]"
   ]
  },
  {
   "cell_type": "code",
   "execution_count": 16,
   "metadata": {},
   "outputs": [],
   "source": [
    "X_train_wine, X_test_wine, y_train_wine, y_test_wine = train_test_split(X_wine, y_wine, test_size=.50, random_state=15)"
   ]
  },
  {
   "cell_type": "code",
   "execution_count": 17,
   "metadata": {},
   "outputs": [],
   "source": [
    "categorical_cols = []\n",
    "numerical_cols = X_train_wine.columns"
   ]
  },
  {
   "cell_type": "code",
   "execution_count": 18,
   "metadata": {},
   "outputs": [
    {
     "name": "stderr",
     "output_type": "stream",
     "text": [
      "/usr/local/Caskroom/miniconda/base/envs/lecture03/lib/python3.9/site-packages/sklearn/neural_network/_multilayer_perceptron.py:702: ConvergenceWarning: Stochastic Optimizer: Maximum iterations (200) reached and the optimization hasn't converged yet.\n",
      "  warnings.warn(\n",
      "/usr/local/Caskroom/miniconda/base/envs/lecture03/lib/python3.9/site-packages/sklearn/neural_network/_multilayer_perceptron.py:702: ConvergenceWarning: Stochastic Optimizer: Maximum iterations (200) reached and the optimization hasn't converged yet.\n",
      "  warnings.warn(\n",
      "/usr/local/Caskroom/miniconda/base/envs/lecture03/lib/python3.9/site-packages/sklearn/neural_network/_multilayer_perceptron.py:702: ConvergenceWarning: Stochastic Optimizer: Maximum iterations (200) reached and the optimization hasn't converged yet.\n",
      "  warnings.warn(\n",
      "/usr/local/Caskroom/miniconda/base/envs/lecture03/lib/python3.9/site-packages/sklearn/neural_network/_multilayer_perceptron.py:702: ConvergenceWarning: Stochastic Optimizer: Maximum iterations (200) reached and the optimization hasn't converged yet.\n",
      "  warnings.warn(\n",
      "/usr/local/Caskroom/miniconda/base/envs/lecture03/lib/python3.9/site-packages/sklearn/neural_network/_multilayer_perceptron.py:702: ConvergenceWarning: Stochastic Optimizer: Maximum iterations (200) reached and the optimization hasn't converged yet.\n",
      "  warnings.warn(\n"
     ]
    },
    {
     "data": {
      "text/html": [
       "<div>\n",
       "<style scoped>\n",
       "    .dataframe tbody tr th:only-of-type {\n",
       "        vertical-align: middle;\n",
       "    }\n",
       "\n",
       "    .dataframe tbody tr th {\n",
       "        vertical-align: top;\n",
       "    }\n",
       "\n",
       "    .dataframe thead th {\n",
       "        text-align: right;\n",
       "    }\n",
       "</style>\n",
       "<table border=\"1\" class=\"dataframe\">\n",
       "  <thead>\n",
       "    <tr style=\"text-align: right;\">\n",
       "      <th></th>\n",
       "      <th>score</th>\n",
       "    </tr>\n",
       "  </thead>\n",
       "  <tbody>\n",
       "    <tr>\n",
       "      <th>LogisticRegression(multi_class='multinomial')</th>\n",
       "      <td>0.87750</td>\n",
       "    </tr>\n",
       "    <tr>\n",
       "      <th>RandomForestClassifier(max_depth=2)</th>\n",
       "      <td>0.87250</td>\n",
       "    </tr>\n",
       "    <tr>\n",
       "      <th>RandomForestClassifier(max_depth=5)</th>\n",
       "      <td>0.90250</td>\n",
       "    </tr>\n",
       "    <tr>\n",
       "      <th>RandomForestClassifier(max_depth=10)</th>\n",
       "      <td>0.91625</td>\n",
       "    </tr>\n",
       "    <tr>\n",
       "      <th>RandomForestClassifier(max_depth=20)</th>\n",
       "      <td>0.90875</td>\n",
       "    </tr>\n",
       "    <tr>\n",
       "      <th>RandomForestClassifier(max_depth=80)</th>\n",
       "      <td>0.90625</td>\n",
       "    </tr>\n",
       "    <tr>\n",
       "      <th>MLPClassifier(hidden_layer_sizes=2)</th>\n",
       "      <td>0.82250</td>\n",
       "    </tr>\n",
       "    <tr>\n",
       "      <th>MLPClassifier(hidden_layer_sizes=6)</th>\n",
       "      <td>0.88125</td>\n",
       "    </tr>\n",
       "    <tr>\n",
       "      <th>MLPClassifier(hidden_layer_sizes=10)</th>\n",
       "      <td>0.85625</td>\n",
       "    </tr>\n",
       "    <tr>\n",
       "      <th>MLPClassifier(hidden_layer_sizes=20)</th>\n",
       "      <td>0.87625</td>\n",
       "    </tr>\n",
       "    <tr>\n",
       "      <th>MLPClassifier(hidden_layer_sizes=40)</th>\n",
       "      <td>0.87750</td>\n",
       "    </tr>\n",
       "  </tbody>\n",
       "</table>\n",
       "</div>"
      ],
      "text/plain": [
       "                                                 score\n",
       "LogisticRegression(multi_class='multinomial')  0.87750\n",
       "RandomForestClassifier(max_depth=2)            0.87250\n",
       "RandomForestClassifier(max_depth=5)            0.90250\n",
       "RandomForestClassifier(max_depth=10)           0.91625\n",
       "RandomForestClassifier(max_depth=20)           0.90875\n",
       "RandomForestClassifier(max_depth=80)           0.90625\n",
       "MLPClassifier(hidden_layer_sizes=2)            0.82250\n",
       "MLPClassifier(hidden_layer_sizes=6)            0.88125\n",
       "MLPClassifier(hidden_layer_sizes=10)           0.85625\n",
       "MLPClassifier(hidden_layer_sizes=20)           0.87625\n",
       "MLPClassifier(hidden_layer_sizes=40)           0.87750"
      ]
     },
     "execution_count": 18,
     "metadata": {},
     "output_type": "execute_result"
    }
   ],
   "source": [
    "results = {}\n",
    "for model in models_to_run:\n",
    "\n",
    "    # create instance of the class, feed the model to be tested\n",
    "    clf = make_pipeline(categorical_cols, numerical_cols, model)\n",
    "    clf.fit(X_train_wine, y_train_wine)\n",
    "\n",
    "    # store results in a dictionary \n",
    "    results[str(model)] = clf.score(X_test_wine, y_test_wine)\n",
    "pd.DataFrame.from_dict(results, orient='index', columns=['score'])"
   ]
  },
  {
   "cell_type": "code",
   "execution_count": 19,
   "metadata": {},
   "outputs": [
    {
     "name": "stderr",
     "output_type": "stream",
     "text": [
      "/usr/local/Caskroom/miniconda/base/envs/lecture03/lib/python3.9/site-packages/sklearn/neural_network/_multilayer_perceptron.py:702: ConvergenceWarning: Stochastic Optimizer: Maximum iterations (200) reached and the optimization hasn't converged yet.\n",
      "  warnings.warn(\n",
      "/usr/local/Caskroom/miniconda/base/envs/lecture03/lib/python3.9/site-packages/sklearn/neural_network/_multilayer_perceptron.py:702: ConvergenceWarning: Stochastic Optimizer: Maximum iterations (200) reached and the optimization hasn't converged yet.\n",
      "  warnings.warn(\n",
      "/usr/local/Caskroom/miniconda/base/envs/lecture03/lib/python3.9/site-packages/sklearn/neural_network/_multilayer_perceptron.py:702: ConvergenceWarning: Stochastic Optimizer: Maximum iterations (200) reached and the optimization hasn't converged yet.\n",
      "  warnings.warn(\n",
      "/usr/local/Caskroom/miniconda/base/envs/lecture03/lib/python3.9/site-packages/sklearn/neural_network/_multilayer_perceptron.py:702: ConvergenceWarning: Stochastic Optimizer: Maximum iterations (200) reached and the optimization hasn't converged yet.\n",
      "  warnings.warn(\n",
      "/usr/local/Caskroom/miniconda/base/envs/lecture03/lib/python3.9/site-packages/sklearn/neural_network/_multilayer_perceptron.py:702: ConvergenceWarning: Stochastic Optimizer: Maximum iterations (200) reached and the optimization hasn't converged yet.\n",
      "  warnings.warn(\n"
     ]
    },
    {
     "data": {
      "text/html": [
       "<div>\n",
       "<style scoped>\n",
       "    .dataframe tbody tr th:only-of-type {\n",
       "        vertical-align: middle;\n",
       "    }\n",
       "\n",
       "    .dataframe tbody tr th {\n",
       "        vertical-align: top;\n",
       "    }\n",
       "\n",
       "    .dataframe thead th {\n",
       "        text-align: right;\n",
       "    }\n",
       "</style>\n",
       "<table border=\"1\" class=\"dataframe\">\n",
       "  <thead>\n",
       "    <tr style=\"text-align: right;\">\n",
       "      <th></th>\n",
       "      <th>score</th>\n",
       "    </tr>\n",
       "  </thead>\n",
       "  <tbody>\n",
       "    <tr>\n",
       "      <th>LogisticRegression(multi_class='multinomial')</th>\n",
       "      <td>0.868228</td>\n",
       "    </tr>\n",
       "    <tr>\n",
       "      <th>RandomForestClassifier(max_depth=2)</th>\n",
       "      <td>0.822008</td>\n",
       "    </tr>\n",
       "    <tr>\n",
       "      <th>RandomForestClassifier(max_depth=5)</th>\n",
       "      <td>0.885495</td>\n",
       "    </tr>\n",
       "    <tr>\n",
       "      <th>RandomForestClassifier(max_depth=10)</th>\n",
       "      <td>0.908045</td>\n",
       "    </tr>\n",
       "    <tr>\n",
       "      <th>RandomForestClassifier(max_depth=20)</th>\n",
       "      <td>0.910657</td>\n",
       "    </tr>\n",
       "    <tr>\n",
       "      <th>RandomForestClassifier(max_depth=80)</th>\n",
       "      <td>0.901051</td>\n",
       "    </tr>\n",
       "    <tr>\n",
       "      <th>MLPClassifier(hidden_layer_sizes=2)</th>\n",
       "      <td>0.818555</td>\n",
       "    </tr>\n",
       "    <tr>\n",
       "      <th>MLPClassifier(hidden_layer_sizes=6)</th>\n",
       "      <td>0.870652</td>\n",
       "    </tr>\n",
       "    <tr>\n",
       "      <th>MLPClassifier(hidden_layer_sizes=10)</th>\n",
       "      <td>0.870726</td>\n",
       "    </tr>\n",
       "    <tr>\n",
       "      <th>MLPClassifier(hidden_layer_sizes=20)</th>\n",
       "      <td>0.872029</td>\n",
       "    </tr>\n",
       "    <tr>\n",
       "      <th>MLPClassifier(hidden_layer_sizes=40)</th>\n",
       "      <td>0.875986</td>\n",
       "    </tr>\n",
       "  </tbody>\n",
       "</table>\n",
       "</div>"
      ],
      "text/plain": [
       "                                                  score\n",
       "LogisticRegression(multi_class='multinomial')  0.868228\n",
       "RandomForestClassifier(max_depth=2)            0.822008\n",
       "RandomForestClassifier(max_depth=5)            0.885495\n",
       "RandomForestClassifier(max_depth=10)           0.908045\n",
       "RandomForestClassifier(max_depth=20)           0.910657\n",
       "RandomForestClassifier(max_depth=80)           0.901051\n",
       "MLPClassifier(hidden_layer_sizes=2)            0.818555\n",
       "MLPClassifier(hidden_layer_sizes=6)            0.870652\n",
       "MLPClassifier(hidden_layer_sizes=10)           0.870726\n",
       "MLPClassifier(hidden_layer_sizes=20)           0.872029\n",
       "MLPClassifier(hidden_layer_sizes=40)           0.875986"
      ]
     },
     "execution_count": 19,
     "metadata": {},
     "output_type": "execute_result"
    }
   ],
   "source": [
    "from sklearn.metrics import f1_score\n",
    "\n",
    "results = {}\n",
    "for model in models_to_run:\n",
    "\n",
    "    # create instance of the class, feed the model to be tested\n",
    "    clf = make_pipeline(categorical_cols, numerical_cols, model)\n",
    "    clf.fit(X_train_wine, y_train_wine)\n",
    "\n",
    "    # store results in a dictionary \n",
    "    results[str(model)] = f1_score(y_test_wine, clf.predict(X_test_wine), average=\"weighted\")\n",
    "pd.DataFrame.from_dict(results, orient='index', columns=['score'])\n"
   ]
  },
  {
   "cell_type": "markdown",
   "metadata": {},
   "source": [
    "## IN PRACTICE: MNIST DATASET"
   ]
  },
  {
   "cell_type": "code",
   "execution_count": 20,
   "metadata": {},
   "outputs": [],
   "source": [
    "from tensorflow.keras.datasets.mnist import load_data\n",
    "from tensorflow.keras import Sequential\n",
    "from tensorflow.keras.layers import Conv2D\n",
    "from tensorflow.keras.layers import MaxPool2D\n",
    "from tensorflow.keras.layers import Dense\n",
    "from tensorflow.keras.layers import Flatten\n",
    "from tensorflow.keras.layers import Dropout\n",
    "from tensorflow.keras.utils import plot_model\n",
    "from tensorflow.keras.datasets.mnist import load_data\n",
    "from tensorflow.keras.wrappers.scikit_learn import KerasClassifier"
   ]
  },
  {
   "cell_type": "code",
   "execution_count": 21,
   "metadata": {},
   "outputs": [],
   "source": [
    "from sklearn.datasets import load_digits"
   ]
  },
  {
   "cell_type": "code",
   "execution_count": 22,
   "metadata": {},
   "outputs": [],
   "source": [
    "(X_digits_train, y_digits_train), (X_digits_test, y_digits_test) = load_data()"
   ]
  },
  {
   "cell_type": "code",
   "execution_count": 23,
   "metadata": {},
   "outputs": [
    {
     "data": {
      "image/png": "[encoded data removed]",
      "text/plain": [
       "<Figure size 600x600 with 4 Axes>"
      ]
     },
     "metadata": {},
     "output_type": "display_data"
    }
   ],
   "source": [
    "plt.figure(figsize=(6,6)) # specifying the overall grid size\n",
    "\n",
    "for i in range(4):\n",
    "    plt.subplot(2,2,i+1)    # the number of images in the grid is 5*5 (25)\n",
    "    plt.imshow(X_digits_train[i])\n",
    "\n",
    "plt.show()"
   ]
  },
  {
   "cell_type": "code",
   "execution_count": 24,
   "metadata": {},
   "outputs": [],
   "source": [
    "inp_shape = X_digits_train.shape[1:]"
   ]
  },
  {
   "cell_type": "code",
   "execution_count": 25,
   "metadata": {},
   "outputs": [],
   "source": [
    "# defining the model\n",
    "def create_model():\n",
    "\n",
    "    model = Sequential()\n",
    "    model.add(Conv2D(32, (3, 3), activation='relu', input_shape=inp_shape + (1,)))\n",
    "    model.add(MaxPool2D((2, 2)))\n",
    "    model.add(Conv2D(48, (3, 3), activation='relu'))\n",
    "    model.add(MaxPool2D((2, 2)))\n",
    "    model.add(Dropout(0.5))\n",
    "    model.add(Flatten())\n",
    "    model.add(Dense(500, activation='relu'))\n",
    "    model.add(Dense(10, activation='softmax'))\n",
    "    model.compile(optimizer='adam', loss='sparse_categorical_crossentropy', metrics=['accuracy'])\n",
    "    return model"
   ]
  },
  {
   "cell_type": "code",
   "execution_count": 26,
   "metadata": {},
   "outputs": [
    {
     "name": "stderr",
     "output_type": "stream",
     "text": [
      "/var/folders/zq/9lh8_0ds0611mg3hwzksgm0r0000gn/T/ipykernel_23916/803054884.py:1: DeprecationWarning: KerasClassifier is deprecated, use Sci-Keras (https://github.com/adriangb/scikeras) instead. See https://www.adriangb.com/scikeras/stable/migration.html for help migrating.\n",
      "  nn_clasifier = KerasClassifier(build_fn=create_model, verbose=0)\n"
     ]
    }
   ],
   "source": [
    "nn_clasifier = KerasClassifier(build_fn=create_model, verbose=0)"
   ]
  },
  {
   "cell_type": "code",
   "execution_count": 27,
   "metadata": {},
   "outputs": [],
   "source": [
    "models_to_run = [\n",
    "    # LogisticRegression(multi_class='multinomial'),\n",
    "    # RandomForestClassifier(max_depth=20),\n",
    "    # MLPClassifier(hidden_layer_sizes=20),\n",
    "    nn_clasifier\n",
    "    ]"
   ]
  },
  {
   "cell_type": "code",
   "execution_count": 28,
   "metadata": {},
   "outputs": [],
   "source": [
    "from sklearn.base import BaseEstimator, TransformerMixin\n",
    "\n",
    "class mean_over_input_dimension(BaseEstimator, TransformerMixin):\n",
    "    def __init__(self, dimension=2):\n",
    "        self.dimension=dimension\n",
    "\n",
    "    def transform(self, img):\n",
    "        return np.mean(img, axis=self.dimension)\n"
   ]
  },
  {
   "cell_type": "code",
   "execution_count": 29,
   "metadata": {},
   "outputs": [],
   "source": [
    "from sklearn.preprocessing import FunctionTransformer"
   ]
  },
  {
   "cell_type": "code",
   "execution_count": 32,
   "metadata": {},
   "outputs": [],
   "source": [
    "# create ColumnTransformer, and pass the column names to transform in each step\n",
    "\n",
    "def mean_over_second_image_dimension(img):\n",
    "    return np.mean(img, axis=2)\n",
    "\n",
    "transformer = FunctionTransformer(mean_over_second_image_dimension)\n",
    "\n",
    "\n",
    "def make_pipeline_mnist(classifier=LogisticRegression()):\n",
    "\n",
    "    clf = Pipeline(\n",
    "        steps=[\n",
    "            ('classifier', classifier)\n",
    "        ]\n",
    "    )\n",
    "\n",
    "    if classifier is not isinstance(classifier, KerasClassifier):\n",
    "        clf.steps.insert(0, ['estimator', transformer]) #insert as first step\n",
    "\n",
    "\n",
    "    return clf\n"
   ]
  },
  {
   "cell_type": "code",
   "execution_count": 39,
   "metadata": {},
   "outputs": [
    {
     "name": "stdout",
     "output_type": "stream",
     "text": [
      "1875/1875 [==============================] - 15s 8ms/step - loss: 0.4326 - accuracy: 0.9117\n"
     ]
    }
   ],
   "source": [
    "history = create_model().fit(X_digits_train, y_digits_train)\n"
   ]
  },
  {
   "cell_type": "code",
   "execution_count": 35,
   "metadata": {},
   "outputs": [
    {
     "data": {
      "text/plain": [
       "(60000, 28, 28)"
      ]
     },
     "execution_count": 35,
     "metadata": {},
     "output_type": "execute_result"
    }
   ],
   "source": [
    "X_digits_train.shape"
   ]
  },
  {
   "cell_type": "code",
   "execution_count": 33,
   "metadata": {},
   "outputs": [
    {
     "name": "stdout",
     "output_type": "stream",
     "text": [
      "WARNING:tensorflow:Model was constructed with shape (None, 28, 28, 1) for input KerasTensor(type_spec=TensorSpec(shape=(None, 28, 28, 1), dtype=tf.float32, name='conv2d_2_input'), name='conv2d_2_input', description=\"created by layer 'conv2d_2_input'\"), but it was called on an input with incompatible shape (32, 28).\n"
     ]
    },
    {
     "ename": "ValueError",
     "evalue": "in user code:\n\n    File \"/usr/local/Caskroom/miniconda/base/envs/lecture03/lib/python3.9/site-packages/keras/engine/training.py\", line 1051, in train_function  *\n        return step_function(self, iterator)\n    File \"/usr/local/Caskroom/miniconda/base/envs/lecture03/lib/python3.9/site-packages/keras/engine/training.py\", line 1040, in step_function  **\n        outputs = model.distribute_strategy.run(run_step, args=(data,))\n    File \"/usr/local/Caskroom/miniconda/base/envs/lecture03/lib/python3.9/site-packages/keras/engine/training.py\", line 1030, in run_step  **\n        outputs = model.train_step(data)\n    File \"/usr/local/Caskroom/miniconda/base/envs/lecture03/lib/python3.9/site-packages/keras/engine/training.py\", line 889, in train_step\n        y_pred = self(x, training=True)\n    File \"/usr/local/Caskroom/miniconda/base/envs/lecture03/lib/python3.9/site-packages/keras/utils/traceback_utils.py\", line 67, in error_handler\n        raise e.with_traceback(filtered_tb) from None\n    File \"/usr/local/Caskroom/miniconda/base/envs/lecture03/lib/python3.9/site-packages/keras/engine/input_spec.py\", line 228, in assert_input_compatibility\n        raise ValueError(f'Input {input_index} of layer \"{layer_name}\" '\n\n    ValueError: Exception encountered when calling layer \"sequential_1\" (type Sequential).\n    \n    Input 0 of layer \"conv2d_2\" is incompatible with the layer: expected min_ndim=4, found ndim=2. Full shape received: (32, 28)\n    \n    Call arguments received by layer \"sequential_1\" (type Sequential):\n      • inputs=tf.Tensor(shape=(32, 28), dtype=float32)\n      • training=True\n      • mask=None\n",
     "output_type": "error",
     "traceback": [
      "\u001b[0;31m---------------------------------------------------------------------------\u001b[0m",
      "\u001b[0;31mValueError\u001b[0m                                Traceback (most recent call last)",
      "\u001b[1;32m/Users/niek/github/ds-academy/lectures/04_lecture/data_pipelines.ipynb Cell 46\u001b[0m in \u001b[0;36m<cell line: 2>\u001b[0;34m()\u001b[0m\n\u001b[1;32m      <a href='vscode-notebook-cell:/Users/niek/github/ds-academy/lectures/04_lecture/data_pipelines.ipynb#Y146sZmlsZQ%3D%3D?line=1'>2</a>\u001b[0m \u001b[39mfor\u001b[39;00m model \u001b[39min\u001b[39;00m models_to_run:\n\u001b[1;32m      <a href='vscode-notebook-cell:/Users/niek/github/ds-academy/lectures/04_lecture/data_pipelines.ipynb#Y146sZmlsZQ%3D%3D?line=2'>3</a>\u001b[0m     \u001b[39m# create instance of the class, feed the model to be tested\u001b[39;00m\n\u001b[1;32m      <a href='vscode-notebook-cell:/Users/niek/github/ds-academy/lectures/04_lecture/data_pipelines.ipynb#Y146sZmlsZQ%3D%3D?line=3'>4</a>\u001b[0m     clf \u001b[39m=\u001b[39m make_pipeline_mnist(model)\n\u001b[0;32m----> <a href='vscode-notebook-cell:/Users/niek/github/ds-academy/lectures/04_lecture/data_pipelines.ipynb#Y146sZmlsZQ%3D%3D?line=4'>5</a>\u001b[0m     clf\u001b[39m.\u001b[39;49mfit(X_digits_train, y_digits_train)\n\u001b[1;32m      <a href='vscode-notebook-cell:/Users/niek/github/ds-academy/lectures/04_lecture/data_pipelines.ipynb#Y146sZmlsZQ%3D%3D?line=6'>7</a>\u001b[0m     \u001b[39m# store results in a dictionary \u001b[39;00m\n\u001b[1;32m      <a href='vscode-notebook-cell:/Users/niek/github/ds-academy/lectures/04_lecture/data_pipelines.ipynb#Y146sZmlsZQ%3D%3D?line=7'>8</a>\u001b[0m     results[\u001b[39mstr\u001b[39m(model)] \u001b[39m=\u001b[39m clf\u001b[39m.\u001b[39mscore(X_digits_train, y_digits_train)\n",
      "File \u001b[0;32m/usr/local/Caskroom/miniconda/base/envs/lecture03/lib/python3.9/site-packages/sklearn/pipeline.py:382\u001b[0m, in \u001b[0;36mPipeline.fit\u001b[0;34m(self, X, y, **fit_params)\u001b[0m\n\u001b[1;32m    380\u001b[0m     \u001b[39mif\u001b[39;00m \u001b[39mself\u001b[39m\u001b[39m.\u001b[39m_final_estimator \u001b[39m!=\u001b[39m \u001b[39m\"\u001b[39m\u001b[39mpassthrough\u001b[39m\u001b[39m\"\u001b[39m:\n\u001b[1;32m    381\u001b[0m         fit_params_last_step \u001b[39m=\u001b[39m fit_params_steps[\u001b[39mself\u001b[39m\u001b[39m.\u001b[39msteps[\u001b[39m-\u001b[39m\u001b[39m1\u001b[39m][\u001b[39m0\u001b[39m]]\n\u001b[0;32m--> 382\u001b[0m         \u001b[39mself\u001b[39;49m\u001b[39m.\u001b[39;49m_final_estimator\u001b[39m.\u001b[39;49mfit(Xt, y, \u001b[39m*\u001b[39;49m\u001b[39m*\u001b[39;49mfit_params_last_step)\n\u001b[1;32m    384\u001b[0m \u001b[39mreturn\u001b[39;00m \u001b[39mself\u001b[39m\n",
      "File \u001b[0;32m/usr/local/Caskroom/miniconda/base/envs/lecture03/lib/python3.9/site-packages/keras/wrappers/scikit_learn.py:236\u001b[0m, in \u001b[0;36mKerasClassifier.fit\u001b[0;34m(self, x, y, **kwargs)\u001b[0m\n\u001b[1;32m    234\u001b[0m   \u001b[39mraise\u001b[39;00m \u001b[39mValueError\u001b[39;00m(\u001b[39m'\u001b[39m\u001b[39mInvalid shape for y: \u001b[39m\u001b[39m'\u001b[39m \u001b[39m+\u001b[39m \u001b[39mstr\u001b[39m(y\u001b[39m.\u001b[39mshape))\n\u001b[1;32m    235\u001b[0m \u001b[39mself\u001b[39m\u001b[39m.\u001b[39mn_classes_ \u001b[39m=\u001b[39m \u001b[39mlen\u001b[39m(\u001b[39mself\u001b[39m\u001b[39m.\u001b[39mclasses_)\n\u001b[0;32m--> 236\u001b[0m \u001b[39mreturn\u001b[39;00m \u001b[39msuper\u001b[39;49m(KerasClassifier, \u001b[39mself\u001b[39;49m)\u001b[39m.\u001b[39;49mfit(x, y, \u001b[39m*\u001b[39;49m\u001b[39m*\u001b[39;49mkwargs)\n",
      "File \u001b[0;32m/usr/local/Caskroom/miniconda/base/envs/lecture03/lib/python3.9/site-packages/keras/wrappers/scikit_learn.py:164\u001b[0m, in \u001b[0;36mBaseWrapper.fit\u001b[0;34m(self, x, y, **kwargs)\u001b[0m\n\u001b[1;32m    161\u001b[0m fit_args \u001b[39m=\u001b[39m copy\u001b[39m.\u001b[39mdeepcopy(\u001b[39mself\u001b[39m\u001b[39m.\u001b[39mfilter_sk_params(Sequential\u001b[39m.\u001b[39mfit))\n\u001b[1;32m    162\u001b[0m fit_args\u001b[39m.\u001b[39mupdate(kwargs)\n\u001b[0;32m--> 164\u001b[0m history \u001b[39m=\u001b[39m \u001b[39mself\u001b[39;49m\u001b[39m.\u001b[39;49mmodel\u001b[39m.\u001b[39;49mfit(x, y, \u001b[39m*\u001b[39;49m\u001b[39m*\u001b[39;49mfit_args)\n\u001b[1;32m    166\u001b[0m \u001b[39mreturn\u001b[39;00m history\n",
      "File \u001b[0;32m/usr/local/Caskroom/miniconda/base/envs/lecture03/lib/python3.9/site-packages/keras/utils/traceback_utils.py:67\u001b[0m, in \u001b[0;36mfilter_traceback.<locals>.error_handler\u001b[0;34m(*args, **kwargs)\u001b[0m\n\u001b[1;32m     65\u001b[0m \u001b[39mexcept\u001b[39;00m \u001b[39mException\u001b[39;00m \u001b[39mas\u001b[39;00m e:  \u001b[39m# pylint: disable=broad-except\u001b[39;00m\n\u001b[1;32m     66\u001b[0m   filtered_tb \u001b[39m=\u001b[39m _process_traceback_frames(e\u001b[39m.\u001b[39m__traceback__)\n\u001b[0;32m---> 67\u001b[0m   \u001b[39mraise\u001b[39;00m e\u001b[39m.\u001b[39mwith_traceback(filtered_tb) \u001b[39mfrom\u001b[39;00m \u001b[39mNone\u001b[39m\n\u001b[1;32m     68\u001b[0m \u001b[39mfinally\u001b[39;00m:\n\u001b[1;32m     69\u001b[0m   \u001b[39mdel\u001b[39;00m filtered_tb\n",
      "File \u001b[0;32m/var/folders/zq/9lh8_0ds0611mg3hwzksgm0r0000gn/T/__autograph_generated_filec8sthhbp.py:15\u001b[0m, in \u001b[0;36mouter_factory.<locals>.inner_factory.<locals>.tf__train_function\u001b[0;34m(iterator)\u001b[0m\n\u001b[1;32m     13\u001b[0m \u001b[39mtry\u001b[39;00m:\n\u001b[1;32m     14\u001b[0m     do_return \u001b[39m=\u001b[39m \u001b[39mTrue\u001b[39;00m\n\u001b[0;32m---> 15\u001b[0m     retval_ \u001b[39m=\u001b[39m ag__\u001b[39m.\u001b[39mconverted_call(ag__\u001b[39m.\u001b[39mld(step_function), (ag__\u001b[39m.\u001b[39mld(\u001b[39mself\u001b[39m), ag__\u001b[39m.\u001b[39mld(iterator)), \u001b[39mNone\u001b[39;00m, fscope)\n\u001b[1;32m     16\u001b[0m \u001b[39mexcept\u001b[39;00m:\n\u001b[1;32m     17\u001b[0m     do_return \u001b[39m=\u001b[39m \u001b[39mFalse\u001b[39;00m\n",
      "\u001b[0;31mValueError\u001b[0m: in user code:\n\n    File \"/usr/local/Caskroom/miniconda/base/envs/lecture03/lib/python3.9/site-packages/keras/engine/training.py\", line 1051, in train_function  *\n        return step_function(self, iterator)\n    File \"/usr/local/Caskroom/miniconda/base/envs/lecture03/lib/python3.9/site-packages/keras/engine/training.py\", line 1040, in step_function  **\n        outputs = model.distribute_strategy.run(run_step, args=(data,))\n    File \"/usr/local/Caskroom/miniconda/base/envs/lecture03/lib/python3.9/site-packages/keras/engine/training.py\", line 1030, in run_step  **\n        outputs = model.train_step(data)\n    File \"/usr/local/Caskroom/miniconda/base/envs/lecture03/lib/python3.9/site-packages/keras/engine/training.py\", line 889, in train_step\n        y_pred = self(x, training=True)\n    File \"/usr/local/Caskroom/miniconda/base/envs/lecture03/lib/python3.9/site-packages/keras/utils/traceback_utils.py\", line 67, in error_handler\n        raise e.with_traceback(filtered_tb) from None\n    File \"/usr/local/Caskroom/miniconda/base/envs/lecture03/lib/python3.9/site-packages/keras/engine/input_spec.py\", line 228, in assert_input_compatibility\n        raise ValueError(f'Input {input_index} of layer \"{layer_name}\" '\n\n    ValueError: Exception encountered when calling layer \"sequential_1\" (type Sequential).\n    \n    Input 0 of layer \"conv2d_2\" is incompatible with the layer: expected min_ndim=4, found ndim=2. Full shape received: (32, 28)\n    \n    Call arguments received by layer \"sequential_1\" (type Sequential):\n      • inputs=tf.Tensor(shape=(32, 28), dtype=float32)\n      • training=True\n      • mask=None\n"
     ]
    }
   ],
   "source": [
    "results = {}\n",
    "for model in models_to_run:\n",
    "    # create instance of the class, feed the model to be tested\n",
    "    clf = make_pipeline_mnist(model)\n",
    "    clf.fit(X_digits_train, y_digits_train)\n",
    "\n",
    "    # store results in a dictionary \n",
    "    results[str(model)] = clf.score(X_digits_test, y_digits_test)\n",
    "pd.DataFrame.from_dict(results, orient='index', columns=['score'])"
   ]
  }
 ],
 "metadata": {
  "kernelspec": {
   "display_name": "Python 3.9.0 ('lecture03')",
   "language": "python",
   "name": "python3"
  },
  "language_info": {
   "codemirror_mode": {
    "name": "ipython",
    "version": 3
   },
   "file_extension": ".py",
   "mimetype": "text/x-python",
   "name": "python",
   "nbconvert_exporter": "python",
   "pygments_lexer": "ipython3",
   "version": "3.9.0"
  },
  "orig_nbformat": 4,
  "vscode": {
   "interpreter": {
    "hash": "c7fa7f2136295d98ae274c3dbb53c8b4ca55063fd8cacac54626e41e0a56bbfb"
   }
  }
 },
 "nbformat": 4,
 "nbformat_minor": 2
}
